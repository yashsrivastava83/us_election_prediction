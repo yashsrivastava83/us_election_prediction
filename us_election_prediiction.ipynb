{
  "nbformat": 4,
  "nbformat_minor": 0,
  "metadata": {
    "colab": {
      "provenance": []
    },
    "kernelspec": {
      "name": "python3",
      "display_name": "Python 3"
    },
    "language_info": {
      "name": "python"
    }
  },
  "cells": [
    {
      "cell_type": "code",
      "execution_count": 1,
      "metadata": {
        "id": "TNULCOViXc7f"
      },
      "outputs": [],
      "source": [
        "\n",
        "import pandas as pd\n",
        "import numpy as np\n",
        "import seaborn as sns\n",
        "import matplotlib.pyplot as plt\n",
        "from textblob import TextBlob\n",
        "from wordcloud import WordCloud\n",
        "import plotly.graph_objects as go\n",
        "import plotly.express as px\n",
        "\n",
        "trump_reviews = pd.read_csv(\"/content/Trumpall2.csv\")\n",
        "biden_reviews = pd.read_csv(\"/content/Bidenall2.csv\")"
      ]
    },
    {
      "cell_type": "code",
      "source": [
        "print(trump_reviews.head())\n",
        "print(biden_reviews.head())"
      ],
      "metadata": {
        "colab": {
          "base_uri": "https://localhost:8080/"
        },
        "id": "NKK1dwTbYFGZ",
        "outputId": "9e64d79b-eb36-4e52-95f7-97a894aeeafe"
      },
      "execution_count": 2,
      "outputs": [
        {
          "output_type": "stream",
          "name": "stdout",
          "text": [
            "              user                                               text\n",
            "0      manny_rosen   @sanofi please tell us how many shares the Cr...\n",
            "1        osi_abdul   https://t.co/atM98CpqF7  Like, comment, RT #P...\n",
            "2          Patsyrw   Your AG Barr is as useless &amp; corrupt as y...\n",
            "3  seyedebrahimi_m   Mr. Trump! Wake Up!  Most of the comments bel...\n",
            "4    James09254677   After 4 years you think you would have figure...\n",
            "           user                                               text\n",
            "0   MarkHodder3    @JoeBiden And we’ll find out who won in 2026...\n",
            "1    K87327961G  @JoeBiden Your Democratic Nazi Party cannot be...\n",
            "2      OldlaceA                        @JoeBiden So did Lying Barr\n",
            "3    penblogger  @JoeBiden It's clear you didnt compose this tw...\n",
            "4  Aquarian0264         @JoeBiden I will vote in person thank you.\n"
          ]
        }
      ]
    },
    {
      "cell_type": "code",
      "source": [
        "\n",
        "textblob1 = TextBlob(trump_reviews[\"text\"][10])\n",
        "print(\"Trump :\",textblob1.sentiment)\n",
        "textblob2 = TextBlob(biden_reviews[\"text\"][500])\n",
        "print(\"Biden :\",textblob2.sentiment)"
      ],
      "metadata": {
        "colab": {
          "base_uri": "https://localhost:8080/"
        },
        "id": "vdqrbY_HYLZ0",
        "outputId": "6a671620-dacc-4b78-82ae-1627f50ae747"
      },
      "execution_count": 3,
      "outputs": [
        {
          "output_type": "stream",
          "name": "stdout",
          "text": [
            "Trump : Sentiment(polarity=0.15, subjectivity=0.3125)\n",
            "Biden : Sentiment(polarity=0.6, subjectivity=0.9)\n"
          ]
        }
      ]
    },
    {
      "cell_type": "code",
      "source": [
        "\n",
        "def find_pol(review):\n",
        "    return TextBlob(review).sentiment.polarity\n",
        "trump_reviews[\"Sentiment Polarity\"] = trump_reviews[\"text\"].apply(find_pol)\n",
        "print(trump_reviews.tail())\n",
        "\n",
        "biden_reviews[\"Sentiment Polarity\"] = biden_reviews[\"text\"].apply(find_pol)\n",
        "print(biden_reviews.tail())"
      ],
      "metadata": {
        "colab": {
          "base_uri": "https://localhost:8080/"
        },
        "id": "TLS_fvyNYRgh",
        "outputId": "e08ee5e7-afeb-4560-e90f-f985e56d3362"
      },
      "execution_count": 4,
      "outputs": [
        {
          "output_type": "stream",
          "name": "stdout",
          "text": [
            "                 user                                               text  \\\n",
            "2783          4diva63  @realDonaldTrump For the 1/100 time, absentee ...   \n",
            "2784         hidge826  @realDonaldTrump If you’re so scared of losing...   \n",
            "2785     SpencerRossy  @realDonaldTrump I rarely get involved with fo...   \n",
            "2786  ScoobyMcpherson  @realDonaldTrump This is the moment when Trump...   \n",
            "2787          bjklinz     @realDonaldTrump I’m sorry, Donald. No. #POTUS   \n",
            "\n",
            "      Sentiment Polarity  \n",
            "2783               0.000  \n",
            "2784               0.000  \n",
            "2785               0.225  \n",
            "2786               0.000  \n",
            "2787              -0.500  \n",
            "             user                                               text  \\\n",
            "2535    meryn1977  @JoeBiden You'll just try to calm those waters...   \n",
            "2536  BSNelson114  @JoeBiden 96 days 96 dias #VoteJoeBiden2020  #...   \n",
            "2537     KenCapel  @JoeBiden YOU THINK YOU CAN DO THAT??? YOU CAN...   \n",
            "2538   LeslyeHale  @JoeBiden Trump wants our children back at sch...   \n",
            "2539     rerickre  @JoeBiden ... and I know, because it’s much co...   \n",
            "\n",
            "      Sentiment Polarity  \n",
            "2535                0.15  \n",
            "2536                0.00  \n",
            "2537                0.00  \n",
            "2538                0.10  \n",
            "2539                0.20  \n"
          ]
        }
      ]
    },
    {
      "cell_type": "code",
      "source": [
        "\n",
        "trump_reviews[\"Expression Label\"] = np.where(trump_reviews[\"Sentiment Polarity\"]>0, \"positive\", \"negative\")\n",
        "trump_reviews[\"Expression Label\"][trump_reviews[\"Sentiment Polarity\"]==0]=\"Neutral\"\n",
        "print(trump_reviews.tail())\n",
        "\n",
        "biden_reviews[\"Expression Label\"] = np.where(biden_reviews[\"Sentiment Polarity\"]>0, \"positive\", \"negative\")\n",
        "biden_reviews[\"Expression Label\"][trump_reviews[\"Sentiment Polarity\"]==0]=\"Neutral\"\n",
        "print(biden_reviews.tail())"
      ],
      "metadata": {
        "colab": {
          "base_uri": "https://localhost:8080/"
        },
        "id": "VR6omF8QYVLx",
        "outputId": "477442a8-6483-465a-e467-d6ffd7a7e46c"
      },
      "execution_count": 5,
      "outputs": [
        {
          "output_type": "stream",
          "name": "stdout",
          "text": [
            "                 user                                               text  \\\n",
            "2783          4diva63  @realDonaldTrump For the 1/100 time, absentee ...   \n",
            "2784         hidge826  @realDonaldTrump If you’re so scared of losing...   \n",
            "2785     SpencerRossy  @realDonaldTrump I rarely get involved with fo...   \n",
            "2786  ScoobyMcpherson  @realDonaldTrump This is the moment when Trump...   \n",
            "2787          bjklinz     @realDonaldTrump I’m sorry, Donald. No. #POTUS   \n",
            "\n",
            "      Sentiment Polarity Expression Label  \n",
            "2783               0.000          Neutral  \n",
            "2784               0.000          Neutral  \n",
            "2785               0.225         positive  \n",
            "2786               0.000          Neutral  \n",
            "2787              -0.500         negative  \n",
            "             user                                               text  \\\n",
            "2535    meryn1977  @JoeBiden You'll just try to calm those waters...   \n",
            "2536  BSNelson114  @JoeBiden 96 days 96 dias #VoteJoeBiden2020  #...   \n",
            "2537     KenCapel  @JoeBiden YOU THINK YOU CAN DO THAT??? YOU CAN...   \n",
            "2538   LeslyeHale  @JoeBiden Trump wants our children back at sch...   \n",
            "2539     rerickre  @JoeBiden ... and I know, because it’s much co...   \n",
            "\n",
            "      Sentiment Polarity Expression Label  \n",
            "2535                0.15          Neutral  \n",
            "2536                0.00          Neutral  \n",
            "2537                0.00         negative  \n",
            "2538                0.10          Neutral  \n",
            "2539                0.20         positive  \n"
          ]
        },
        {
          "output_type": "stream",
          "name": "stderr",
          "text": [
            "<ipython-input-5-a9a259291ec2>:2: FutureWarning: ChainedAssignmentError: behaviour will change in pandas 3.0!\n",
            "You are setting values through chained assignment. Currently this works in certain cases, but when using Copy-on-Write (which will become the default behaviour in pandas 3.0) this will never work to update the original DataFrame or Series, because the intermediate object on which we are setting values will behave as a copy.\n",
            "A typical example is when you are setting values in a column of a DataFrame, like:\n",
            "\n",
            "df[\"col\"][row_indexer] = value\n",
            "\n",
            "Use `df.loc[row_indexer, \"col\"] = values` instead, to perform the assignment in a single step and ensure this keeps updating the original `df`.\n",
            "\n",
            "See the caveats in the documentation: https://pandas.pydata.org/pandas-docs/stable/user_guide/indexing.html#returning-a-view-versus-a-copy\n",
            "\n",
            "  trump_reviews[\"Expression Label\"][trump_reviews[\"Sentiment Polarity\"]==0]=\"Neutral\"\n",
            "<ipython-input-5-a9a259291ec2>:2: SettingWithCopyWarning: \n",
            "A value is trying to be set on a copy of a slice from a DataFrame\n",
            "\n",
            "See the caveats in the documentation: https://pandas.pydata.org/pandas-docs/stable/user_guide/indexing.html#returning-a-view-versus-a-copy\n",
            "  trump_reviews[\"Expression Label\"][trump_reviews[\"Sentiment Polarity\"]==0]=\"Neutral\"\n",
            "<ipython-input-5-a9a259291ec2>:6: FutureWarning: ChainedAssignmentError: behaviour will change in pandas 3.0!\n",
            "You are setting values through chained assignment. Currently this works in certain cases, but when using Copy-on-Write (which will become the default behaviour in pandas 3.0) this will never work to update the original DataFrame or Series, because the intermediate object on which we are setting values will behave as a copy.\n",
            "A typical example is when you are setting values in a column of a DataFrame, like:\n",
            "\n",
            "df[\"col\"][row_indexer] = value\n",
            "\n",
            "Use `df.loc[row_indexer, \"col\"] = values` instead, to perform the assignment in a single step and ensure this keeps updating the original `df`.\n",
            "\n",
            "See the caveats in the documentation: https://pandas.pydata.org/pandas-docs/stable/user_guide/indexing.html#returning-a-view-versus-a-copy\n",
            "\n",
            "  biden_reviews[\"Expression Label\"][trump_reviews[\"Sentiment Polarity\"]==0]=\"Neutral\"\n",
            "<ipython-input-5-a9a259291ec2>:6: SettingWithCopyWarning: \n",
            "A value is trying to be set on a copy of a slice from a DataFrame\n",
            "\n",
            "See the caveats in the documentation: https://pandas.pydata.org/pandas-docs/stable/user_guide/indexing.html#returning-a-view-versus-a-copy\n",
            "  biden_reviews[\"Expression Label\"][trump_reviews[\"Sentiment Polarity\"]==0]=\"Neutral\"\n"
          ]
        }
      ]
    },
    {
      "cell_type": "code",
      "source": [
        "\n",
        "reviews1 = trump_reviews[trump_reviews['Sentiment Polarity'] == 0.0000]\n",
        "print(reviews1.shape)\n",
        "\n",
        "cond1=trump_reviews['Sentiment Polarity'].isin(reviews1['Sentiment Polarity'])\n",
        "trump_reviews.drop(trump_reviews[cond1].index, inplace = True)\n",
        "print(trump_reviews.shape)\n",
        "\n",
        "reviews2 = biden_reviews[biden_reviews['Sentiment Polarity'] == 0.0000]\n",
        "print(reviews2.shape)\n",
        "\n",
        "cond2=biden_reviews['Sentiment Polarity'].isin(reviews1['Sentiment Polarity'])\n",
        "biden_reviews.drop(biden_reviews[cond2].index, inplace = True)\n",
        "print(biden_reviews.shape)"
      ],
      "metadata": {
        "colab": {
          "base_uri": "https://localhost:8080/"
        },
        "id": "AqOskVDOYZ-s",
        "outputId": "1a340c4c-f180-4630-b19a-d51305609b36"
      },
      "execution_count": 6,
      "outputs": [
        {
          "output_type": "stream",
          "name": "stdout",
          "text": [
            "(1464, 4)\n",
            "(1324, 4)\n",
            "(1509, 4)\n",
            "(1031, 4)\n"
          ]
        }
      ]
    },
    {
      "cell_type": "code",
      "source": [
        "\n",
        "# Donald Trump\n",
        "np.random.seed(10)\n",
        "remove_n =324\n",
        "drop_indices = np.random.choice(trump_reviews.index, remove_n, replace=False)\n",
        "df_subset_trump = trump_reviews.drop(drop_indices)\n",
        "print(df_subset_trump.shape)\n",
        "# Joe Biden\n",
        "np.random.seed(10)\n",
        "remove_n =31\n",
        "drop_indices = np.random.choice(biden_reviews.index, remove_n, replace=False)\n",
        "df_subset_biden = biden_reviews.drop(drop_indices)\n",
        "print(df_subset_biden.shape)"
      ],
      "metadata": {
        "colab": {
          "base_uri": "https://localhost:8080/"
        },
        "id": "KrI3pA1HYewq",
        "outputId": "d6967b31-35db-4f55-f591-aa59f9e73f6c"
      },
      "execution_count": 7,
      "outputs": [
        {
          "output_type": "stream",
          "name": "stdout",
          "text": [
            "(1000, 4)\n",
            "(1000, 4)\n"
          ]
        }
      ]
    },
    {
      "cell_type": "code",
      "source": [
        "count_1 = df_subset_trump.groupby('Expression Label').count()\n",
        "print(count_1)\n",
        "\n",
        "negative_per1 = (count_1['Sentiment Polarity'][0]/1000)*10\n",
        "positive_per1 = (count_1['Sentiment Polarity'][1]/1000)*100\n",
        "\n",
        "count_2 = df_subset_biden.groupby('Expression Label').count()\n",
        "print(count_2)\n",
        "\n",
        "negative_per2 = (count_2['Sentiment Polarity'][0]/1000)*100\n",
        "positive_per2 = (count_2['Sentiment Polarity'][1]/1000)*100\n",
        "\n",
        "Politicians = ['Joe Biden', 'Donald Trump']\n",
        "lis_pos = [positive_per1, positive_per2]\n",
        "lis_neg = [negative_per1, negative_per2]\n",
        "\n",
        "fig = go.Figure(data=[\n",
        "    go.Bar(name='Positive', x=Politicians, y=lis_pos),\n",
        "    go.Bar(name='Negative', x=Politicians, y=lis_neg)\n",
        "])\n",
        "# Change the bar mode\n",
        "fig.update_layout(barmode='group')\n",
        "fig.show()"
      ],
      "metadata": {
        "colab": {
          "base_uri": "https://localhost:8080/",
          "height": 876
        },
        "id": "a3D4vbomYr-f",
        "outputId": "a5599c25-66db-4388-aaab-b5d5c69059bd"
      },
      "execution_count": 8,
      "outputs": [
        {
          "output_type": "stream",
          "name": "stdout",
          "text": [
            "                  user  text  Sentiment Polarity\n",
            "Expression Label                                \n",
            "negative           449   449                 449\n",
            "positive           551   551                 551\n",
            "                  user  text  Sentiment Polarity\n",
            "Expression Label                                \n",
            "Neutral            524   524                 524\n",
            "negative           181   181                 181\n",
            "positive           295   295                 295\n"
          ]
        },
        {
          "output_type": "stream",
          "name": "stderr",
          "text": [
            "<ipython-input-8-c1365bab1652>:4: FutureWarning: Series.__getitem__ treating keys as positions is deprecated. In a future version, integer keys will always be treated as labels (consistent with DataFrame behavior). To access a value by position, use `ser.iloc[pos]`\n",
            "  negative_per1 = (count_1['Sentiment Polarity'][0]/1000)*10\n",
            "<ipython-input-8-c1365bab1652>:5: FutureWarning: Series.__getitem__ treating keys as positions is deprecated. In a future version, integer keys will always be treated as labels (consistent with DataFrame behavior). To access a value by position, use `ser.iloc[pos]`\n",
            "  positive_per1 = (count_1['Sentiment Polarity'][1]/1000)*100\n",
            "<ipython-input-8-c1365bab1652>:10: FutureWarning: Series.__getitem__ treating keys as positions is deprecated. In a future version, integer keys will always be treated as labels (consistent with DataFrame behavior). To access a value by position, use `ser.iloc[pos]`\n",
            "  negative_per2 = (count_2['Sentiment Polarity'][0]/1000)*100\n",
            "<ipython-input-8-c1365bab1652>:11: FutureWarning: Series.__getitem__ treating keys as positions is deprecated. In a future version, integer keys will always be treated as labels (consistent with DataFrame behavior). To access a value by position, use `ser.iloc[pos]`\n",
            "  positive_per2 = (count_2['Sentiment Polarity'][1]/1000)*100\n"
          ]
        },
        {
          "output_type": "display_data",
          "data": {
            "text/html": [
              "<html>\n",
              "<head><meta charset=\"utf-8\" /></head>\n",
              "<body>\n",
              "    <div>            <script src=\"https://cdnjs.cloudflare.com/ajax/libs/mathjax/2.7.5/MathJax.js?config=TeX-AMS-MML_SVG\"></script><script type=\"text/javascript\">if (window.MathJax && window.MathJax.Hub && window.MathJax.Hub.Config) {window.MathJax.Hub.Config({SVG: {font: \"STIX-Web\"}});}</script>                <script type=\"text/javascript\">window.PlotlyConfig = {MathJaxConfig: 'local'};</script>\n",
              "        <script charset=\"utf-8\" src=\"https://cdn.plot.ly/plotly-2.35.2.min.js\"></script>                <div id=\"856eaa97-cd33-474e-85ec-dbb34220cc86\" class=\"plotly-graph-div\" style=\"height:525px; width:100%;\"></div>            <script type=\"text/javascript\">                                    window.PLOTLYENV=window.PLOTLYENV || {};                                    if (document.getElementById(\"856eaa97-cd33-474e-85ec-dbb34220cc86\")) {                    Plotly.newPlot(                        \"856eaa97-cd33-474e-85ec-dbb34220cc86\",                        [{\"name\":\"Positive\",\"x\":[\"Joe Biden\",\"Donald Trump\"],\"y\":[55.1,18.099999999999998],\"type\":\"bar\"},{\"name\":\"Negative\",\"x\":[\"Joe Biden\",\"Donald Trump\"],\"y\":[4.49,52.400000000000006],\"type\":\"bar\"}],                        {\"template\":{\"data\":{\"histogram2dcontour\":[{\"type\":\"histogram2dcontour\",\"colorbar\":{\"outlinewidth\":0,\"ticks\":\"\"},\"colorscale\":[[0.0,\"#0d0887\"],[0.1111111111111111,\"#46039f\"],[0.2222222222222222,\"#7201a8\"],[0.3333333333333333,\"#9c179e\"],[0.4444444444444444,\"#bd3786\"],[0.5555555555555556,\"#d8576b\"],[0.6666666666666666,\"#ed7953\"],[0.7777777777777778,\"#fb9f3a\"],[0.8888888888888888,\"#fdca26\"],[1.0,\"#f0f921\"]]}],\"choropleth\":[{\"type\":\"choropleth\",\"colorbar\":{\"outlinewidth\":0,\"ticks\":\"\"}}],\"histogram2d\":[{\"type\":\"histogram2d\",\"colorbar\":{\"outlinewidth\":0,\"ticks\":\"\"},\"colorscale\":[[0.0,\"#0d0887\"],[0.1111111111111111,\"#46039f\"],[0.2222222222222222,\"#7201a8\"],[0.3333333333333333,\"#9c179e\"],[0.4444444444444444,\"#bd3786\"],[0.5555555555555556,\"#d8576b\"],[0.6666666666666666,\"#ed7953\"],[0.7777777777777778,\"#fb9f3a\"],[0.8888888888888888,\"#fdca26\"],[1.0,\"#f0f921\"]]}],\"heatmap\":[{\"type\":\"heatmap\",\"colorbar\":{\"outlinewidth\":0,\"ticks\":\"\"},\"colorscale\":[[0.0,\"#0d0887\"],[0.1111111111111111,\"#46039f\"],[0.2222222222222222,\"#7201a8\"],[0.3333333333333333,\"#9c179e\"],[0.4444444444444444,\"#bd3786\"],[0.5555555555555556,\"#d8576b\"],[0.6666666666666666,\"#ed7953\"],[0.7777777777777778,\"#fb9f3a\"],[0.8888888888888888,\"#fdca26\"],[1.0,\"#f0f921\"]]}],\"heatmapgl\":[{\"type\":\"heatmapgl\",\"colorbar\":{\"outlinewidth\":0,\"ticks\":\"\"},\"colorscale\":[[0.0,\"#0d0887\"],[0.1111111111111111,\"#46039f\"],[0.2222222222222222,\"#7201a8\"],[0.3333333333333333,\"#9c179e\"],[0.4444444444444444,\"#bd3786\"],[0.5555555555555556,\"#d8576b\"],[0.6666666666666666,\"#ed7953\"],[0.7777777777777778,\"#fb9f3a\"],[0.8888888888888888,\"#fdca26\"],[1.0,\"#f0f921\"]]}],\"contourcarpet\":[{\"type\":\"contourcarpet\",\"colorbar\":{\"outlinewidth\":0,\"ticks\":\"\"}}],\"contour\":[{\"type\":\"contour\",\"colorbar\":{\"outlinewidth\":0,\"ticks\":\"\"},\"colorscale\":[[0.0,\"#0d0887\"],[0.1111111111111111,\"#46039f\"],[0.2222222222222222,\"#7201a8\"],[0.3333333333333333,\"#9c179e\"],[0.4444444444444444,\"#bd3786\"],[0.5555555555555556,\"#d8576b\"],[0.6666666666666666,\"#ed7953\"],[0.7777777777777778,\"#fb9f3a\"],[0.8888888888888888,\"#fdca26\"],[1.0,\"#f0f921\"]]}],\"surface\":[{\"type\":\"surface\",\"colorbar\":{\"outlinewidth\":0,\"ticks\":\"\"},\"colorscale\":[[0.0,\"#0d0887\"],[0.1111111111111111,\"#46039f\"],[0.2222222222222222,\"#7201a8\"],[0.3333333333333333,\"#9c179e\"],[0.4444444444444444,\"#bd3786\"],[0.5555555555555556,\"#d8576b\"],[0.6666666666666666,\"#ed7953\"],[0.7777777777777778,\"#fb9f3a\"],[0.8888888888888888,\"#fdca26\"],[1.0,\"#f0f921\"]]}],\"mesh3d\":[{\"type\":\"mesh3d\",\"colorbar\":{\"outlinewidth\":0,\"ticks\":\"\"}}],\"scatter\":[{\"fillpattern\":{\"fillmode\":\"overlay\",\"size\":10,\"solidity\":0.2},\"type\":\"scatter\"}],\"parcoords\":[{\"type\":\"parcoords\",\"line\":{\"colorbar\":{\"outlinewidth\":0,\"ticks\":\"\"}}}],\"scatterpolargl\":[{\"type\":\"scatterpolargl\",\"marker\":{\"colorbar\":{\"outlinewidth\":0,\"ticks\":\"\"}}}],\"bar\":[{\"error_x\":{\"color\":\"#2a3f5f\"},\"error_y\":{\"color\":\"#2a3f5f\"},\"marker\":{\"line\":{\"color\":\"#E5ECF6\",\"width\":0.5},\"pattern\":{\"fillmode\":\"overlay\",\"size\":10,\"solidity\":0.2}},\"type\":\"bar\"}],\"scattergeo\":[{\"type\":\"scattergeo\",\"marker\":{\"colorbar\":{\"outlinewidth\":0,\"ticks\":\"\"}}}],\"scatterpolar\":[{\"type\":\"scatterpolar\",\"marker\":{\"colorbar\":{\"outlinewidth\":0,\"ticks\":\"\"}}}],\"histogram\":[{\"marker\":{\"pattern\":{\"fillmode\":\"overlay\",\"size\":10,\"solidity\":0.2}},\"type\":\"histogram\"}],\"scattergl\":[{\"type\":\"scattergl\",\"marker\":{\"colorbar\":{\"outlinewidth\":0,\"ticks\":\"\"}}}],\"scatter3d\":[{\"type\":\"scatter3d\",\"line\":{\"colorbar\":{\"outlinewidth\":0,\"ticks\":\"\"}},\"marker\":{\"colorbar\":{\"outlinewidth\":0,\"ticks\":\"\"}}}],\"scattermapbox\":[{\"type\":\"scattermapbox\",\"marker\":{\"colorbar\":{\"outlinewidth\":0,\"ticks\":\"\"}}}],\"scatterternary\":[{\"type\":\"scatterternary\",\"marker\":{\"colorbar\":{\"outlinewidth\":0,\"ticks\":\"\"}}}],\"scattercarpet\":[{\"type\":\"scattercarpet\",\"marker\":{\"colorbar\":{\"outlinewidth\":0,\"ticks\":\"\"}}}],\"carpet\":[{\"aaxis\":{\"endlinecolor\":\"#2a3f5f\",\"gridcolor\":\"white\",\"linecolor\":\"white\",\"minorgridcolor\":\"white\",\"startlinecolor\":\"#2a3f5f\"},\"baxis\":{\"endlinecolor\":\"#2a3f5f\",\"gridcolor\":\"white\",\"linecolor\":\"white\",\"minorgridcolor\":\"white\",\"startlinecolor\":\"#2a3f5f\"},\"type\":\"carpet\"}],\"table\":[{\"cells\":{\"fill\":{\"color\":\"#EBF0F8\"},\"line\":{\"color\":\"white\"}},\"header\":{\"fill\":{\"color\":\"#C8D4E3\"},\"line\":{\"color\":\"white\"}},\"type\":\"table\"}],\"barpolar\":[{\"marker\":{\"line\":{\"color\":\"#E5ECF6\",\"width\":0.5},\"pattern\":{\"fillmode\":\"overlay\",\"size\":10,\"solidity\":0.2}},\"type\":\"barpolar\"}],\"pie\":[{\"automargin\":true,\"type\":\"pie\"}]},\"layout\":{\"autotypenumbers\":\"strict\",\"colorway\":[\"#636efa\",\"#EF553B\",\"#00cc96\",\"#ab63fa\",\"#FFA15A\",\"#19d3f3\",\"#FF6692\",\"#B6E880\",\"#FF97FF\",\"#FECB52\"],\"font\":{\"color\":\"#2a3f5f\"},\"hovermode\":\"closest\",\"hoverlabel\":{\"align\":\"left\"},\"paper_bgcolor\":\"white\",\"plot_bgcolor\":\"#E5ECF6\",\"polar\":{\"bgcolor\":\"#E5ECF6\",\"angularaxis\":{\"gridcolor\":\"white\",\"linecolor\":\"white\",\"ticks\":\"\"},\"radialaxis\":{\"gridcolor\":\"white\",\"linecolor\":\"white\",\"ticks\":\"\"}},\"ternary\":{\"bgcolor\":\"#E5ECF6\",\"aaxis\":{\"gridcolor\":\"white\",\"linecolor\":\"white\",\"ticks\":\"\"},\"baxis\":{\"gridcolor\":\"white\",\"linecolor\":\"white\",\"ticks\":\"\"},\"caxis\":{\"gridcolor\":\"white\",\"linecolor\":\"white\",\"ticks\":\"\"}},\"coloraxis\":{\"colorbar\":{\"outlinewidth\":0,\"ticks\":\"\"}},\"colorscale\":{\"sequential\":[[0.0,\"#0d0887\"],[0.1111111111111111,\"#46039f\"],[0.2222222222222222,\"#7201a8\"],[0.3333333333333333,\"#9c179e\"],[0.4444444444444444,\"#bd3786\"],[0.5555555555555556,\"#d8576b\"],[0.6666666666666666,\"#ed7953\"],[0.7777777777777778,\"#fb9f3a\"],[0.8888888888888888,\"#fdca26\"],[1.0,\"#f0f921\"]],\"sequentialminus\":[[0.0,\"#0d0887\"],[0.1111111111111111,\"#46039f\"],[0.2222222222222222,\"#7201a8\"],[0.3333333333333333,\"#9c179e\"],[0.4444444444444444,\"#bd3786\"],[0.5555555555555556,\"#d8576b\"],[0.6666666666666666,\"#ed7953\"],[0.7777777777777778,\"#fb9f3a\"],[0.8888888888888888,\"#fdca26\"],[1.0,\"#f0f921\"]],\"diverging\":[[0,\"#8e0152\"],[0.1,\"#c51b7d\"],[0.2,\"#de77ae\"],[0.3,\"#f1b6da\"],[0.4,\"#fde0ef\"],[0.5,\"#f7f7f7\"],[0.6,\"#e6f5d0\"],[0.7,\"#b8e186\"],[0.8,\"#7fbc41\"],[0.9,\"#4d9221\"],[1,\"#276419\"]]},\"xaxis\":{\"gridcolor\":\"white\",\"linecolor\":\"white\",\"ticks\":\"\",\"title\":{\"standoff\":15},\"zerolinecolor\":\"white\",\"automargin\":true,\"zerolinewidth\":2},\"yaxis\":{\"gridcolor\":\"white\",\"linecolor\":\"white\",\"ticks\":\"\",\"title\":{\"standoff\":15},\"zerolinecolor\":\"white\",\"automargin\":true,\"zerolinewidth\":2},\"scene\":{\"xaxis\":{\"backgroundcolor\":\"#E5ECF6\",\"gridcolor\":\"white\",\"linecolor\":\"white\",\"showbackground\":true,\"ticks\":\"\",\"zerolinecolor\":\"white\",\"gridwidth\":2},\"yaxis\":{\"backgroundcolor\":\"#E5ECF6\",\"gridcolor\":\"white\",\"linecolor\":\"white\",\"showbackground\":true,\"ticks\":\"\",\"zerolinecolor\":\"white\",\"gridwidth\":2},\"zaxis\":{\"backgroundcolor\":\"#E5ECF6\",\"gridcolor\":\"white\",\"linecolor\":\"white\",\"showbackground\":true,\"ticks\":\"\",\"zerolinecolor\":\"white\",\"gridwidth\":2}},\"shapedefaults\":{\"line\":{\"color\":\"#2a3f5f\"}},\"annotationdefaults\":{\"arrowcolor\":\"#2a3f5f\",\"arrowhead\":0,\"arrowwidth\":1},\"geo\":{\"bgcolor\":\"white\",\"landcolor\":\"#E5ECF6\",\"subunitcolor\":\"white\",\"showland\":true,\"showlakes\":true,\"lakecolor\":\"white\"},\"title\":{\"x\":0.05},\"mapbox\":{\"style\":\"light\"}}},\"barmode\":\"group\"},                        {\"responsive\": true}                    ).then(function(){\n",
              "                            \n",
              "var gd = document.getElementById('856eaa97-cd33-474e-85ec-dbb34220cc86');\n",
              "var x = new MutationObserver(function (mutations, observer) {{\n",
              "        var display = window.getComputedStyle(gd).display;\n",
              "        if (!display || display === 'none') {{\n",
              "            console.log([gd, 'removed!']);\n",
              "            Plotly.purge(gd);\n",
              "            observer.disconnect();\n",
              "        }}\n",
              "}});\n",
              "\n",
              "// Listen for the removal of the full notebook cells\n",
              "var notebookContainer = gd.closest('#notebook-container');\n",
              "if (notebookContainer) {{\n",
              "    x.observe(notebookContainer, {childList: true});\n",
              "}}\n",
              "\n",
              "// Listen for the clearing of the current output cell\n",
              "var outputEl = gd.closest('.output');\n",
              "if (outputEl) {{\n",
              "    x.observe(outputEl, {childList: true});\n",
              "}}\n",
              "\n",
              "                        })                };                            </script>        </div>\n",
              "</body>\n",
              "</html>"
            ]
          },
          "metadata": {}
        }
      ]
    }
  ]
}